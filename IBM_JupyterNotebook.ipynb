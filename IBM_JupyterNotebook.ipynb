{
 "cells": [
  {
   "cell_type": "markdown",
   "metadata": {},
   "source": [
    "<center>\n",
    "    <img src=\"https://cf-courses-data.s3.us.cloud-object-storage.appdomain.cloud/IBMDeveloperSkillsNetwork-DS0105EN-SkillsNetwork/labs/Module2/images/SN_web_lightmode.png\" width=\"300\" alt=\"cognitiveclass.ai logo\">\n",
    "</center>\n"
   ]
  },
  {
   "cell_type": "markdown",
   "metadata": {},
   "source": [
    "#### Add your code below following the instructions given in the course\n"
   ]
  },
  {
   "cell_type": "markdown",
   "metadata": {},
   "source": [
    "# My Jupyter Notebook on IBM Watson Studio"
   ]
  },
  {
   "cell_type": "markdown",
   "metadata": {},
   "source": [
    "**Miguel Ángel Rodríguez García**\n",
    "Desired occupation: Data Analyst"
   ]
  },
  {
   "cell_type": "markdown",
   "metadata": {},
   "source": [
    "_I am interested in data science because there is something about it that truly calls me. I know I may not be the best at statistics or at programming, but I do love to learn about everything that revolves around data science. Also, as silly as it may sound, I love sitting on my computer and just typing on it trying to solve problems or learn something._"
   ]
  },
  {
   "cell_type": "markdown",
   "metadata": {},
   "source": [
    "### It's a function that returns a sentence depending if you want a cookie or not. "
   ]
  },
  {
   "cell_type": "code",
   "execution_count": 9,
   "metadata": {},
   "outputs": [
    {
     "name": "stdout",
     "output_type": "stream",
     "text": [
      "Buy your own!\n"
     ]
    }
   ],
   "source": [
    "def doyouwantcookie(cookie):\n",
    "    if cookie == True:\n",
    "        print('Buy your own!')\n",
    "    else:\n",
    "        return print('More for me!')\n",
    "\n",
    "doyouwantcookie(True)"
   ]
  },
  {
   "cell_type": "markdown",
   "metadata": {},
   "source": [
    "- Bulleted List\n",
    "- Numbered List\n",
    "- Hyperlink (LinkedIn)\n",
    "\n",
    "1. Bulleted List\n",
    "2. Numbered List\n",
    "3. Hyperlink (LinkedIn)\n",
    "\n",
    "__[My LinkedIn](https://www.linkedin.com/in/miguelangelrdzg/)__"
   ]
  }
 ],
 "metadata": {
  "kernelspec": {
   "display_name": "Python",
   "language": "python",
   "name": "conda-env-python-py"
  },
  "language_info": {
   "codemirror_mode": {
    "name": "ipython",
    "version": 3
   },
   "file_extension": ".py",
   "mimetype": "text/x-python",
   "name": "python",
   "nbconvert_exporter": "python",
   "pygments_lexer": "ipython3",
   "version": "3.7.12"
  }
 },
 "nbformat": 4,
 "nbformat_minor": 4
}
